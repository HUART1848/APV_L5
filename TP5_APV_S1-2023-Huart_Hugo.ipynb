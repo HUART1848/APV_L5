{
 "cells": [
  {
   "cell_type": "markdown",
   "id": "452fe525",
   "metadata": {},
   "source": [
    "# Travail Pratique 5"
   ]
  },
  {
   "cell_type": "markdown",
   "id": "3029f967",
   "metadata": {},
   "source": [
    "# <div class=\"alert alert-block alert-success\">\n",
    "<b>Informations générales </b>\n",
    "</div>\n",
    "\n",
    "**Professeur**: Stephan Robert\n",
    "\n",
    "**Assistant(s)**: Félicien Hêche\n",
    "\n",
    "**Contact**: stephan.o.robert@gmail.com, felicien.heche@gmail.com ou via Teams\n",
    "\n",
    "**Rendu**:\n",
    "\n",
    "- Date: \n",
    "- Modalité: Travail individuel. Une fois complétées, copiez les réponses dans le ficher \"**TP5_APV_S1-2023_Nom_Prenom.*****\" (*** = ce que vous voulez qui soit lisible pour nous: .pdf, .html, ...) en remplaçant Nom et Prenom par les votres puis uploader votre fichier sur Cyberlearn.\n",
    "- Note: Ce TP est noté sur 6, pour un poids de x%\n",
    "\n",
    "**Étudiant**:\n",
    "\n",
    "- Hugo Huart\n",
    "\n",
    "<div class=\"alert alert-block alert-success\">\n",
    "\n",
    "<b>But du TP </b>\n",
    "</div>\n",
    "\n",
    "Le but de ce travail pratique est d'implémenter une classification naïve bayésienne dans le cas continu.\n",
    "\n",
    "\n",
    "<!---\n",
    "<div class=\"alert alert-block alert-info\">\n",
    "<b>Rappel </b>\n",
    "</div>\n",
    "-->\n",
    "\n",
    "<div class=\"alert alert-block alert-success\">\n",
    "<b>Table des matières </b>\n",
    "</div>\n",
    "\n",
    "1. Dataset\n",
    "2. Naïve Bayes\n",
    "3. Evaluation\n"
   ]
  },
  {
   "cell_type": "markdown",
   "id": "ea2e395b",
   "metadata": {},
   "source": [
    "Pour commencer, nous allons importer quelques packages qui vont nous être utile."
   ]
  },
  {
   "cell_type": "code",
   "execution_count": 2,
   "id": "9dc3c395",
   "metadata": {},
   "outputs": [],
   "source": [
    "import numpy as np\n",
    "import sklearn\n",
    "from sklearn import datasets\n",
    "import pandas as pd\n",
    "import matplotlib.pyplot as plt\n",
    "from sklearn import metrics\n",
    "from sklearn.model_selection import train_test_split\n",
    "from sklearn.naive_bayes import GaussianNB\n",
    "from sklearn.metrics import accuracy_score"
   ]
  },
  {
   "cell_type": "markdown",
   "id": "6521c8de",
   "metadata": {},
   "source": [
    "## 1.  Dataset"
   ]
  },
  {
   "cell_type": "markdown",
   "id": "81ca7df3",
   "metadata": {},
   "source": [
    "Pour ce TP, nous allons travailler avec un dataset appelé 'Wine dataset'. Chaque observation correspond à des caractérisque de de vins. Les classes correspondent à trois types de vins différents."
   ]
  },
  {
   "cell_type": "code",
   "execution_count": 3,
   "id": "d39e3ffa",
   "metadata": {},
   "outputs": [],
   "source": [
    "# load dataset\n",
    "wine_data = datasets.load_wine()"
   ]
  },
  {
   "cell_type": "markdown",
   "id": "cd308217",
   "metadata": {},
   "source": [
    "Comme toujours, il est important de comprendre les données avec lesquelles nous travaillons."
   ]
  },
  {
   "cell_type": "code",
   "execution_count": 5,
   "id": "a188d73f",
   "metadata": {},
   "outputs": [
    {
     "name": "stdout",
     "output_type": "stream",
     "text": [
      ".. _wine_dataset:\n",
      "\n",
      "Wine recognition dataset\n",
      "------------------------\n",
      "\n",
      "**Data Set Characteristics:**\n",
      "\n",
      "    :Number of Instances: 178\n",
      "    :Number of Attributes: 13 numeric, predictive attributes and the class\n",
      "    :Attribute Information:\n",
      " \t\t- Alcohol\n",
      " \t\t- Malic acid\n",
      " \t\t- Ash\n",
      "\t\t- Alcalinity of ash  \n",
      " \t\t- Magnesium\n",
      "\t\t- Total phenols\n",
      " \t\t- Flavanoids\n",
      " \t\t- Nonflavanoid phenols\n",
      " \t\t- Proanthocyanins\n",
      "\t\t- Color intensity\n",
      " \t\t- Hue\n",
      " \t\t- OD280/OD315 of diluted wines\n",
      " \t\t- Proline\n",
      "\n",
      "    - class:\n",
      "            - class_0\n",
      "            - class_1\n",
      "            - class_2\n",
      "\t\t\n",
      "    :Summary Statistics:\n",
      "    \n",
      "    ============================= ==== ===== ======= =====\n",
      "                                   Min   Max   Mean     SD\n",
      "    ============================= ==== ===== ======= =====\n",
      "    Alcohol:                      11.0  14.8    13.0   0.8\n",
      "    Malic Acid:                   0.74  5.80    2.34  1.12\n",
      "    Ash:                          1.36  3.23    2.36  0.27\n",
      "    Alcalinity of Ash:            10.6  30.0    19.5   3.3\n",
      "    Magnesium:                    70.0 162.0    99.7  14.3\n",
      "    Total Phenols:                0.98  3.88    2.29  0.63\n",
      "    Flavanoids:                   0.34  5.08    2.03  1.00\n",
      "    Nonflavanoid Phenols:         0.13  0.66    0.36  0.12\n",
      "    Proanthocyanins:              0.41  3.58    1.59  0.57\n",
      "    Colour Intensity:              1.3  13.0     5.1   2.3\n",
      "    Hue:                          0.48  1.71    0.96  0.23\n",
      "    OD280/OD315 of diluted wines: 1.27  4.00    2.61  0.71\n",
      "    Proline:                       278  1680     746   315\n",
      "    ============================= ==== ===== ======= =====\n",
      "\n",
      "    :Missing Attribute Values: None\n",
      "    :Class Distribution: class_0 (59), class_1 (71), class_2 (48)\n",
      "    :Creator: R.A. Fisher\n",
      "    :Donor: Michael Marshall (MARSHALL%PLU@io.arc.nasa.gov)\n",
      "    :Date: July, 1988\n",
      "\n",
      "This is a copy of UCI ML Wine recognition datasets.\n",
      "https://archive.ics.uci.edu/ml/machine-learning-databases/wine/wine.data\n",
      "\n",
      "The data is the results of a chemical analysis of wines grown in the same\n",
      "region in Italy by three different cultivators. There are thirteen different\n",
      "measurements taken for different constituents found in the three types of\n",
      "wine.\n",
      "\n",
      "Original Owners: \n",
      "\n",
      "Forina, M. et al, PARVUS - \n",
      "An Extendible Package for Data Exploration, Classification and Correlation. \n",
      "Institute of Pharmaceutical and Food Analysis and Technologies,\n",
      "Via Brigata Salerno, 16147 Genoa, Italy.\n",
      "\n",
      "Citation:\n",
      "\n",
      "Lichman, M. (2013). UCI Machine Learning Repository\n",
      "[https://archive.ics.uci.edu/ml]. Irvine, CA: University of California,\n",
      "School of Information and Computer Science. \n",
      "\n",
      "|details-start|\n",
      "**References**\n",
      "|details-split|\n",
      "\n",
      "(1) S. Aeberhard, D. Coomans and O. de Vel, \n",
      "Comparison of Classifiers in High Dimensional Settings, \n",
      "Tech. Rep. no. 92-02, (1992), Dept. of Computer Science and Dept. of  \n",
      "Mathematics and Statistics, James Cook University of North Queensland. \n",
      "(Also submitted to Technometrics). \n",
      "\n",
      "The data was used with many others for comparing various \n",
      "classifiers. The classes are separable, though only RDA \n",
      "has achieved 100% correct classification. \n",
      "(RDA : 100%, QDA 99.4%, LDA 98.9%, 1NN 96.1% (z-transformed data)) \n",
      "(All results using the leave-one-out technique) \n",
      "\n",
      "(2) S. Aeberhard, D. Coomans and O. de Vel, \n",
      "\"THE CLASSIFICATION PERFORMANCE OF RDA\" \n",
      "Tech. Rep. no. 92-01, (1992), Dept. of Computer Science and Dept. of \n",
      "Mathematics and Statistics, James Cook University of North Queensland. \n",
      "(Also submitted to Journal of Chemometrics).\n",
      "\n",
      "|details-end|\n"
     ]
    }
   ],
   "source": [
    "print(wine_data.DESCR)"
   ]
  },
  {
   "cell_type": "markdown",
   "id": "89f54cb8",
   "metadata": {},
   "source": [
    "## 2. Naïve Bayes Classifier"
   ]
  },
  {
   "cell_type": "markdown",
   "id": "4777c424",
   "metadata": {},
   "source": [
    "Construisons maintenant un classificateur de type naïve bayes pour déterminer le type précis d'Iris. Cependant remarquer que dans notre cas, les features sont des valeurs continues (longueur et largeur des pétales et sépales)."
   ]
  },
  {
   "cell_type": "markdown",
   "id": "90342a97",
   "metadata": {},
   "source": [
    "Comme justifié dans la partie théorique de ce labo, notre modèle final sera de la forme \n",
    "$$\n",
    "h_{\\theta}(x) = argmax_{C_{j}} \\log(p(C_{j})) + \\sum_{i=1}^{n} \\log(f_{\\theta_{i, j}}(x_{i}))\n",
    "$$\n",
    "où $f_{\\theta_{i, j}}$ est la fonction de densité de $X_{i}|C_{j}$"
   ]
  },
  {
   "cell_type": "markdown",
   "id": "e6049c7b",
   "metadata": {},
   "source": [
    "Ici, et comme il est très courant en pratique on va supposer que $X_{i}|C_{j} \\sim \\mathcal{N}(\\mu, \\sigma^{2})$ où $\\mathcal{N}$ est une loi normale. Pour estimer $\\mu$ et $\\sigma$ et de manière très classique, on va utiliser la méthode du maximum de vraisemblance."
   ]
  },
  {
   "cell_type": "markdown",
   "id": "1d57c1e7",
   "metadata": {},
   "source": [
    "Rappelons que \n",
    "$$\n",
    "\\hat{\\mu}_{mle} = \\frac{1}{n} \\sum_{i=1}^{n} X_{i}\n",
    "$$\n",
    "et que \n",
    "$$\n",
    "\\hat{\\sigma}_{mle}^{2} = \\frac{1}{n} \\sum_{i=1}^{n} (X_{i} - \\hat{\\mu}_{mle})^{2}\n",
    "$$"
   ]
  },
  {
   "cell_type": "markdown",
   "id": "d582866b",
   "metadata": {},
   "source": [
    "Nous allons maintenant implémenter le classifieur décrit ci-dessus en utilisant une classe appelée 'GaussianeNaiveBayes'."
   ]
  },
  {
   "cell_type": "code",
   "execution_count": 4,
   "id": "50602be0",
   "metadata": {},
   "outputs": [],
   "source": [
    "class GaussianNaiveBayes:\n",
    "    \"\"\"\n",
    "    An implementation of Naives Bayes classifier in continous case.\n",
    "    \"\"\"\n",
    "\n",
    "    # TODO: implement this class -> Enjoy! \n",
    "    "
   ]
  },
  {
   "cell_type": "markdown",
   "id": "d987c7e8",
   "metadata": {},
   "source": [
    "## 3. Evaluation"
   ]
  },
  {
   "cell_type": "markdown",
   "id": "e5aedb39",
   "metadata": {},
   "source": [
    "Nous allons maintenant construire et évaluer notre modèle. Pour commençons construisons notre training et test dataset."
   ]
  },
  {
   "cell_type": "code",
   "execution_count": 5,
   "id": "d367d9bb",
   "metadata": {},
   "outputs": [],
   "source": [
    "X_train, X_test, Y_train, Y_test = train_test_split(wine_data.data, wine_data.target, test_size=0.3)"
   ]
  },
  {
   "cell_type": "code",
   "execution_count": 6,
   "id": "37d469da",
   "metadata": {},
   "outputs": [],
   "source": [
    "# Evidemment, vous n'êtes pas obligé de construire votre modèle en utilisant les même input que moi.\n",
    "# En particulier wine_data.feature_name n'est pas vraiment nécessaire\n",
    "model = GaussianNaiveBayes(data=X_train, target=Y_train, feature_names=wine_data.feature_names)"
   ]
  },
  {
   "cell_type": "markdown",
   "id": "ba176070",
   "metadata": {},
   "source": [
    "Et une fois que notre modèle est construit, on peut essayer de calculer sa précision sur le test set."
   ]
  },
  {
   "cell_type": "code",
   "execution_count": 7,
   "id": "b7b8772b",
   "metadata": {},
   "outputs": [
    {
     "name": "stdout",
     "output_type": "stream",
     "text": [
      "Our model get an accuracy of 96.30% on the test dataset.\n"
     ]
    }
   ],
   "source": [
    "# Ici aussi vous êtes très libre sur la manière d'utiliser votre modèle.\n",
    "preds = [model.classify(x_test) for x_test in X_test]\n",
    "print('Our model get an accuracy of {:.2f}% on the test dataset.'.format(100*((np.sum(preds == Y_test))/len(X_test))))"
   ]
  },
  {
   "cell_type": "markdown",
   "id": "d0750329",
   "metadata": {},
   "source": [
    "En pratique, on a évidemmnent pas besoin d'implémenter nos modèles nous-mêmes. Par exemple, on peut utiliser GaussianNB de sklearn. "
   ]
  },
  {
   "cell_type": "markdown",
   "id": "0f55c2cd",
   "metadata": {},
   "source": [
    "On peut maintenant vérifier que notre classe GaussianNaiveBayes fournit les même résultats que GaussianNB."
   ]
  },
  {
   "cell_type": "code",
   "execution_count": 8,
   "id": "cecf5302",
   "metadata": {},
   "outputs": [
    {
     "name": "stdout",
     "output_type": "stream",
     "text": [
      "We obtain an accuracy of 96.3%\n"
     ]
    }
   ],
   "source": [
    "official_model = GaussianNB()\n",
    "official_model.fit(X_train, Y_train)\n",
    "predictions = official_model.predict(X_test)\n",
    "acc = np.round(accuracy_score(Y_test, predictions)*100, 2)\n",
    "print('We obtain an accuracy of {}%'.format(acc))"
   ]
  }
 ],
 "metadata": {
  "kernelspec": {
   "display_name": "Python 3 (ipykernel)",
   "language": "python",
   "name": "python3"
  },
  "language_info": {
   "codemirror_mode": {
    "name": "ipython",
    "version": 3
   },
   "file_extension": ".py",
   "mimetype": "text/x-python",
   "name": "python",
   "nbconvert_exporter": "python",
   "pygments_lexer": "ipython3",
   "version": "3.11.6"
  }
 },
 "nbformat": 4,
 "nbformat_minor": 5
}
